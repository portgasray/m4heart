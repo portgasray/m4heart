{
 "cells": [
  {
   "cell_type": "code",
   "execution_count": 4,
   "id": "0064012a",
   "metadata": {},
   "outputs": [
    {
     "name": "stdout",
     "output_type": "stream",
     "text": [
      "current working dir: E:\\Experiments\\Lei.Zhang\\01-Working\\Datathon2022\\metacsv\n"
     ]
    }
   ],
   "source": [
    "# working windows\n",
    "## installation requirements\n",
    "## numpy, pandas, plotly, and pandas_profiling\n",
    "\n",
    "import os\n",
    "import numpy as np\n",
    "import pandas as pd\n",
    "import pandas_profiling as pdp\n",
    "\n",
    "## visualization\n",
    "import plotly.express as px\n",
    "\n",
    "## change working dir, all csv files put into the metacsv folder\n",
    "if os.path.basename(os.getcwd()) == 'Datathon2022':\n",
    "    os.chdir(os.getcwd() +'\\\\metacsv')\n",
    "print('current working dir:',os.getcwd()) "
   ]
  },
  {
   "cell_type": "code",
   "execution_count": 5,
   "id": "75a151ac",
   "metadata": {},
   "outputs": [],
   "source": [
    "## patient information with disease code [-,-,-,1,-]\n",
    "# data_info4 = pd.read_csv('data_info4.csv')\n",
    "\n",
    "data_info5 = pd.read_csv('data_info5.csv')\n",
    "\n",
    "## itemId\n",
    "data_chart = pd.read_csv('data_chart.csv')\n",
    "data_lab = pd.read_csv('data_lab.csv')\n",
    "## itemId → labels\n",
    "chart_items = pd.read_csv('d_items.csv')\n",
    "lab_items = pd.read_csv('d_labitems.csv')\n",
    "\n",
    "data_pharmacy = pd.read_csv('data_pharmacy.csv')\n",
    "\n",
    "## subject-id;intime;los\n",
    "data_icustay = pd.read_csv('data_icustay.csv')\n",
    "\n",
    "## diagnosis\n",
    "data_diagnosis = pd.read_csv('data_diagnosis.csv')"
   ]
  },
  {
   "cell_type": "code",
   "execution_count": 6,
   "id": "5317177d",
   "metadata": {},
   "outputs": [],
   "source": [
    "# profile = pdp.ProfileReport(data_info5)\n",
    "# profile.to_file(output_file=\"hfwise_subjects.html\")"
   ]
  },
  {
   "cell_type": "code",
   "execution_count": 7,
   "id": "77c812c7",
   "metadata": {},
   "outputs": [],
   "source": [
    "# profile = pdp.ProfileReport(data_icustay)\n",
    "# profile.to_file(output_file=\"icustay.html\")"
   ]
  },
  {
   "cell_type": "code",
   "execution_count": 8,
   "id": "b5f78880",
   "metadata": {},
   "outputs": [],
   "source": [
    "# profile = pdp.ProfileReport(data_pharmacy)\n",
    "# profile.to_file(output_file=\"pharmacy.html\")"
   ]
  },
  {
   "cell_type": "code",
   "execution_count": 9,
   "id": "e1fd2a10",
   "metadata": {},
   "outputs": [],
   "source": [
    "# profile = pdp.ProfileReport(data_diagnosis)\n",
    "# profile.to_file(output_file=\"diagnosis.html\")"
   ]
  },
  {
   "cell_type": "code",
   "execution_count": 10,
   "id": "f444ea6a",
   "metadata": {},
   "outputs": [],
   "source": [
    "# chart_items = chart_items[['itemid', 'label']]\n",
    "# data_chart_labeled = pd.merge(data_chart, chart_items, on='itemid', how='left')\n",
    "# profile = pdp.ProfileReport(data_chart_labeled, correlations=None) #correlations make the computation workload expensive\n",
    "# profile.to_file(output_file=\"chart.html\")"
   ]
  },
  {
   "cell_type": "code",
   "execution_count": 11,
   "id": "4dc31024",
   "metadata": {},
   "outputs": [],
   "source": [
    "# lab_items = lab_items[['itemid', 'label']]\n",
    "# data_lab_labeled = pd.merge(data_lab, lab_items, on='itemid', how='left')\n",
    "# profile = pdp.ProfileReport(data_lab_labeled, correlations=None)\n",
    "# profile.to_file(output_file=\"lab.html\")"
   ]
  },
  {
   "cell_type": "code",
   "execution_count": 72,
   "id": "38369559",
   "metadata": {},
   "outputs": [],
   "source": [
    "subjects = data_info5\n",
    "diagnosis_code_title = data_diagnosis[['hadm_id','icd_code', 'long_title']]\n",
    "\n",
    "heart_failure_subjects = subjects[subjects['congestive_heart_failure'] == 1]\n",
    "myocardial_infarct_subjects = subjects[subjects['myocardial_infarct'] == 1]\n",
    "renal_subjects = subjects[subjects['renal_disease'] == 1]\n",
    "hf_renal_subjects = subjects[(subjects['congestive_heart_failure'] == 1) & (subjects['renal_disease'] == 1)]\n",
    "\n",
    "heart_failure_title = pd.merge(heart_failure_subjects, diagnosis_code_title, on='hadm_id', how='left')\n",
    "myocardial_infarct_title = pd.merge(myocardial_infarct_subjects, diagnosis_code_title, on='hadm_id', how='left')\n",
    "renal_title = pd.merge(renal_subjects, diagnosis_code_title, on='hadm_id', how='left')\n",
    "hf_renal_title = pd.merge(hf_renal_subjects, diagnosis_code_title, on='hadm_id', how='left')"
   ]
  },
  {
   "cell_type": "code",
   "execution_count": 13,
   "id": "d8ef0ae0",
   "metadata": {},
   "outputs": [],
   "source": [
    "# print('the total length of the heart failure : {}'.format(heart_failure_subjects.shape[0]))\n",
    "# heart_failure = pd.merge(heart_failure_subjects, diagnosis_code_title, on='hadm_id', how='left')\n",
    "# print('the total length of the heart failure (after left-join): {}'.format(heart_failure.shape[0]))\n",
    "\n",
    "# print('the total length of the heart failure : {}'.format(myocardial_infarct_subjects.shape[0]))\n",
    "# myocardial_infarct = pd.merge(myocardial_infarct_subjects, diagnosis_code_title, on='hadm_id', how='left')\n",
    "# print('the total length of the heart failure (after left-join): {}'.format(myocardial_infarct.shape[0]))\n",
    "\n",
    "\n",
    "# print('the total length of the renal : {}'.format(renal_subjects.shape[0]))\n",
    "# renal = pd.merge(renal_subjects, diagnosis_code_title, on='hadm_id', how='left')\n",
    "# print('the total length of the renal (after left-join): {}'.format(renal.shape[0]))"
   ]
  },
  {
   "cell_type": "code",
   "execution_count": 16,
   "id": "096965a2",
   "metadata": {},
   "outputs": [
    {
     "data": {
      "application/vnd.jupyter.widget-view+json": {
       "model_id": "33c3e4d1582b4f31b70025d208137ff0",
       "version_major": 2,
       "version_minor": 0
      },
      "text/plain": [
       "Summarize dataset:   0%|          | 0/5 [00:00<?, ?it/s]"
      ]
     },
     "metadata": {},
     "output_type": "display_data"
    },
    {
     "data": {
      "application/vnd.jupyter.widget-view+json": {
       "model_id": "f7ccccb6571c41c2ac2baecc3452f228",
       "version_major": 2,
       "version_minor": 0
      },
      "text/plain": [
       "Generate report structure:   0%|          | 0/1 [00:00<?, ?it/s]"
      ]
     },
     "metadata": {},
     "output_type": "display_data"
    },
    {
     "data": {
      "application/vnd.jupyter.widget-view+json": {
       "model_id": "8e0cc9f0b5d64979a9df83807a41e46c",
       "version_major": 2,
       "version_minor": 0
      },
      "text/plain": [
       "Render HTML:   0%|          | 0/1 [00:00<?, ?it/s]"
      ]
     },
     "metadata": {},
     "output_type": "display_data"
    },
    {
     "data": {
      "application/vnd.jupyter.widget-view+json": {
       "model_id": "5fa26417a0b04febb37571b041394f1d",
       "version_major": 2,
       "version_minor": 0
      },
      "text/plain": [
       "Export report to file:   0%|          | 0/1 [00:00<?, ?it/s]"
      ]
     },
     "metadata": {},
     "output_type": "display_data"
    }
   ],
   "source": [
    "profile = pdp.ProfileReport(renal_title) #correlations make the computation workload expensive\n",
    "profile.to_file(output_file=\"renal_subjects.html\")"
   ]
  },
  {
   "cell_type": "code",
   "execution_count": 75,
   "id": "d7a546fe",
   "metadata": {},
   "outputs": [
    {
     "data": {
      "application/vnd.jupyter.widget-view+json": {
       "model_id": "8b849d2e15554aed9af88b6762a879ff",
       "version_major": 2,
       "version_minor": 0
      },
      "text/plain": [
       "Summarize dataset:   0%|          | 0/5 [00:00<?, ?it/s]"
      ]
     },
     "metadata": {},
     "output_type": "display_data"
    },
    {
     "data": {
      "application/vnd.jupyter.widget-view+json": {
       "model_id": "32de22ac52454a189f8031afcc42e203",
       "version_major": 2,
       "version_minor": 0
      },
      "text/plain": [
       "Generate report structure:   0%|          | 0/1 [00:00<?, ?it/s]"
      ]
     },
     "metadata": {},
     "output_type": "display_data"
    },
    {
     "data": {
      "application/vnd.jupyter.widget-view+json": {
       "model_id": "56cfd86b5fd54e2599ffaa2339e27081",
       "version_major": 2,
       "version_minor": 0
      },
      "text/plain": [
       "Render HTML:   0%|          | 0/1 [00:00<?, ?it/s]"
      ]
     },
     "metadata": {},
     "output_type": "display_data"
    },
    {
     "data": {
      "application/vnd.jupyter.widget-view+json": {
       "model_id": "3bc217c0b95e438ba7cdea5b14358666",
       "version_major": 2,
       "version_minor": 0
      },
      "text/plain": [
       "Export report to file:   0%|          | 0/1 [00:00<?, ?it/s]"
      ]
     },
     "metadata": {},
     "output_type": "display_data"
    }
   ],
   "source": [
    "profile = pdp.ProfileReport(hf_renal_title) #correlations make the computation workload expensive\n",
    "profile.to_file(output_file=\"hf_renal_subjects.html\")\n",
    "hf_renal_title.to_csv('hf_renal_subjects.csv', index = False, encoding='utf-8')"
   ]
  },
  {
   "cell_type": "code",
   "execution_count": 80,
   "id": "3a78e53b",
   "metadata": {},
   "outputs": [
    {
     "data": {
      "text/plain": [
       "Hypertensive heart and chronic kidney disease with heart failure and stage 1 through stage 4 chronic kidney disease, or unspecified chronic kidney disease    747\n",
       "Acute on chronic diastolic heart failure                                                                                                                      580\n",
       "Subendocardial infarction, initial episode of care                                                                                                            416\n",
       "Acute on chronic systolic heart failure                                                                                                                       415\n",
       "Non-ST elevation (NSTEMI) myocardial infarction                                                                                                               319\n",
       "                                                                                                                                                             ... \n",
       "Hypertensive heart and chronic kidney disease, unspecified, without heart failure and with chronic kidney disease stage I through stage IV, or unspecified      1\n",
       "Chronic diastolic (congestive) heart failure                                                                                                                    1\n",
       "Acute on chronic right heart failure                                                                                                                            1\n",
       "Unspecified systolic (congestive) heart failure                                                                                                                 1\n",
       "Hypertensive heart and chronic kidney disease without heart failure, with stage 5 chronic kidney disease, or end stage renal disease                            1\n",
       "Name: long_title, Length: 63, dtype: int64"
      ]
     },
     "execution_count": 80,
     "metadata": {},
     "output_type": "execute_result"
    }
   ],
   "source": [
    "hf_renal_title['long_title'].value_counts()"
   ]
  },
  {
   "cell_type": "code",
   "execution_count": 79,
   "id": "b289d52b",
   "metadata": {},
   "outputs": [
    {
     "ename": "AttributeError",
     "evalue": "'Series' object has no attribute 'value_couts'",
     "output_type": "error",
     "traceback": [
      "\u001b[1;31m---------------------------------------------------------------------------\u001b[0m",
      "\u001b[1;31mAttributeError\u001b[0m                            Traceback (most recent call last)",
      "\u001b[1;32m~\\AppData\\Local\\Temp/ipykernel_2292/2340254078.py\u001b[0m in \u001b[0;36m<module>\u001b[1;34m\u001b[0m\n\u001b[0;32m      1\u001b[0m fig = px.bar(hf_renal_title['long_title'], x=hf_renal_title['long_title'].value_counts().index,\n\u001b[1;32m----> 2\u001b[1;33m              y=hf_renal_title['long_title'].value_couts())\n\u001b[0m\u001b[0;32m      3\u001b[0m \u001b[0mfig\u001b[0m\u001b[1;33m.\u001b[0m\u001b[0mshow\u001b[0m\u001b[1;33m(\u001b[0m\u001b[1;33m)\u001b[0m\u001b[1;33m\u001b[0m\u001b[1;33m\u001b[0m\u001b[0m\n",
      "\u001b[1;32mD:\\Dev\\anaconda3\\envs\\pytorch\\lib\\site-packages\\pandas\\core\\generic.py\u001b[0m in \u001b[0;36m__getattr__\u001b[1;34m(self, name)\u001b[0m\n\u001b[0;32m   5485\u001b[0m         ):\n\u001b[0;32m   5486\u001b[0m             \u001b[1;32mreturn\u001b[0m \u001b[0mself\u001b[0m\u001b[1;33m[\u001b[0m\u001b[0mname\u001b[0m\u001b[1;33m]\u001b[0m\u001b[1;33m\u001b[0m\u001b[1;33m\u001b[0m\u001b[0m\n\u001b[1;32m-> 5487\u001b[1;33m         \u001b[1;32mreturn\u001b[0m \u001b[0mobject\u001b[0m\u001b[1;33m.\u001b[0m\u001b[0m__getattribute__\u001b[0m\u001b[1;33m(\u001b[0m\u001b[0mself\u001b[0m\u001b[1;33m,\u001b[0m \u001b[0mname\u001b[0m\u001b[1;33m)\u001b[0m\u001b[1;33m\u001b[0m\u001b[1;33m\u001b[0m\u001b[0m\n\u001b[0m\u001b[0;32m   5488\u001b[0m \u001b[1;33m\u001b[0m\u001b[0m\n\u001b[0;32m   5489\u001b[0m     \u001b[1;32mdef\u001b[0m \u001b[0m__setattr__\u001b[0m\u001b[1;33m(\u001b[0m\u001b[0mself\u001b[0m\u001b[1;33m,\u001b[0m \u001b[0mname\u001b[0m\u001b[1;33m:\u001b[0m \u001b[0mstr\u001b[0m\u001b[1;33m,\u001b[0m \u001b[0mvalue\u001b[0m\u001b[1;33m)\u001b[0m \u001b[1;33m->\u001b[0m \u001b[1;32mNone\u001b[0m\u001b[1;33m:\u001b[0m\u001b[1;33m\u001b[0m\u001b[1;33m\u001b[0m\u001b[0m\n",
      "\u001b[1;31mAttributeError\u001b[0m: 'Series' object has no attribute 'value_couts'"
     ]
    }
   ],
   "source": [
    "fig = px.bar(hf_renal_title['long_title'], x=hf_renal_title['long_title'].value_counts().index,\n",
    "             y=hf_renal_title['long_title'].value_couts())\n",
    "fig.show()"
   ]
  },
  {
   "cell_type": "code",
   "execution_count": 67,
   "id": "73c7a8b8",
   "metadata": {},
   "outputs": [
    {
     "data": {
      "text/html": [
       "<div>\n",
       "<style scoped>\n",
       "    .dataframe tbody tr th:only-of-type {\n",
       "        vertical-align: middle;\n",
       "    }\n",
       "\n",
       "    .dataframe tbody tr th {\n",
       "        vertical-align: top;\n",
       "    }\n",
       "\n",
       "    .dataframe thead th {\n",
       "        text-align: right;\n",
       "    }\n",
       "</style>\n",
       "<table border=\"1\" class=\"dataframe\">\n",
       "  <thead>\n",
       "    <tr style=\"text-align: right;\">\n",
       "      <th></th>\n",
       "      <th>subject_id</th>\n",
       "      <th>hadm_id</th>\n",
       "      <th>admittime</th>\n",
       "      <th>dischtime</th>\n",
       "      <th>admission_type</th>\n",
       "      <th>admission_location</th>\n",
       "      <th>discharge_location</th>\n",
       "      <th>insurance</th>\n",
       "      <th>language</th>\n",
       "      <th>marital_status</th>\n",
       "      <th>...</th>\n",
       "      <th>paraplegia</th>\n",
       "      <th>renal_disease</th>\n",
       "      <th>malignant_cancer</th>\n",
       "      <th>severe_liver_disease</th>\n",
       "      <th>metastatic_solid_tumor</th>\n",
       "      <th>aids</th>\n",
       "      <th>diag1</th>\n",
       "      <th>diag2</th>\n",
       "      <th>icd_code</th>\n",
       "      <th>long_title</th>\n",
       "    </tr>\n",
       "  </thead>\n",
       "  <tbody>\n",
       "    <tr>\n",
       "      <th>0</th>\n",
       "      <td>19545081</td>\n",
       "      <td>27086801</td>\n",
       "      <td>4/4/2158 18:06:00</td>\n",
       "      <td>25/4/2158 16:52:00</td>\n",
       "      <td>EW EMER.</td>\n",
       "      <td>EMERGENCY ROOM</td>\n",
       "      <td>SKILLED NURSING FACILITY</td>\n",
       "      <td>Medicare</td>\n",
       "      <td>ENGLISH</td>\n",
       "      <td>SINGLE</td>\n",
       "      <td>...</td>\n",
       "      <td>0</td>\n",
       "      <td>1</td>\n",
       "      <td>0</td>\n",
       "      <td>0</td>\n",
       "      <td>0</td>\n",
       "      <td>0</td>\n",
       "      <td>0</td>\n",
       "      <td>1</td>\n",
       "      <td>4280</td>\n",
       "      <td>Congestive heart failure, unspecified</td>\n",
       "    </tr>\n",
       "    <tr>\n",
       "      <th>1</th>\n",
       "      <td>18567594</td>\n",
       "      <td>29828717</td>\n",
       "      <td>31/5/2196 03:13:00</td>\n",
       "      <td>7/6/2196 15:00:00</td>\n",
       "      <td>EW EMER.</td>\n",
       "      <td>EMERGENCY ROOM</td>\n",
       "      <td>HOME</td>\n",
       "      <td>Other</td>\n",
       "      <td>ENGLISH</td>\n",
       "      <td>SINGLE</td>\n",
       "      <td>...</td>\n",
       "      <td>0</td>\n",
       "      <td>1</td>\n",
       "      <td>0</td>\n",
       "      <td>0</td>\n",
       "      <td>0</td>\n",
       "      <td>0</td>\n",
       "      <td>0</td>\n",
       "      <td>1</td>\n",
       "      <td>42833</td>\n",
       "      <td>Acute on chronic diastolic heart failure</td>\n",
       "    </tr>\n",
       "    <tr>\n",
       "      <th>2</th>\n",
       "      <td>17447473</td>\n",
       "      <td>22293942</td>\n",
       "      <td>15/9/2113 19:45:00</td>\n",
       "      <td>27/9/2113 15:00:00</td>\n",
       "      <td>EW EMER.</td>\n",
       "      <td>EMERGENCY ROOM</td>\n",
       "      <td>SKILLED NURSING FACILITY</td>\n",
       "      <td>Medicare</td>\n",
       "      <td>ENGLISH</td>\n",
       "      <td>MARRIED</td>\n",
       "      <td>...</td>\n",
       "      <td>0</td>\n",
       "      <td>1</td>\n",
       "      <td>0</td>\n",
       "      <td>0</td>\n",
       "      <td>0</td>\n",
       "      <td>0</td>\n",
       "      <td>0</td>\n",
       "      <td>1</td>\n",
       "      <td>42833</td>\n",
       "      <td>Acute on chronic diastolic heart failure</td>\n",
       "    </tr>\n",
       "    <tr>\n",
       "      <th>3</th>\n",
       "      <td>17600934</td>\n",
       "      <td>26823201</td>\n",
       "      <td>13/5/2134 12:53:00</td>\n",
       "      <td>20/5/2134 19:30:00</td>\n",
       "      <td>EW EMER.</td>\n",
       "      <td>EMERGENCY ROOM</td>\n",
       "      <td>HOSPICE</td>\n",
       "      <td>Medicare</td>\n",
       "      <td>ENGLISH</td>\n",
       "      <td>DIVORCED</td>\n",
       "      <td>...</td>\n",
       "      <td>0</td>\n",
       "      <td>1</td>\n",
       "      <td>0</td>\n",
       "      <td>0</td>\n",
       "      <td>0</td>\n",
       "      <td>0</td>\n",
       "      <td>0</td>\n",
       "      <td>1</td>\n",
       "      <td>42833</td>\n",
       "      <td>Acute on chronic diastolic heart failure</td>\n",
       "    </tr>\n",
       "    <tr>\n",
       "      <th>4</th>\n",
       "      <td>14261068</td>\n",
       "      <td>20086032</td>\n",
       "      <td>9/9/2144 13:37:00</td>\n",
       "      <td>13/9/2144 14:00:00</td>\n",
       "      <td>DIRECT EMER.</td>\n",
       "      <td>CLINIC REFERRAL</td>\n",
       "      <td>SKILLED NURSING FACILITY</td>\n",
       "      <td>Other</td>\n",
       "      <td>ENGLISH</td>\n",
       "      <td>WIDOWED</td>\n",
       "      <td>...</td>\n",
       "      <td>0</td>\n",
       "      <td>1</td>\n",
       "      <td>0</td>\n",
       "      <td>0</td>\n",
       "      <td>0</td>\n",
       "      <td>0</td>\n",
       "      <td>0</td>\n",
       "      <td>1</td>\n",
       "      <td>42833</td>\n",
       "      <td>Acute on chronic diastolic heart failure</td>\n",
       "    </tr>\n",
       "    <tr>\n",
       "      <th>...</th>\n",
       "      <td>...</td>\n",
       "      <td>...</td>\n",
       "      <td>...</td>\n",
       "      <td>...</td>\n",
       "      <td>...</td>\n",
       "      <td>...</td>\n",
       "      <td>...</td>\n",
       "      <td>...</td>\n",
       "      <td>...</td>\n",
       "      <td>...</td>\n",
       "      <td>...</td>\n",
       "      <td>...</td>\n",
       "      <td>...</td>\n",
       "      <td>...</td>\n",
       "      <td>...</td>\n",
       "      <td>...</td>\n",
       "      <td>...</td>\n",
       "      <td>...</td>\n",
       "      <td>...</td>\n",
       "      <td>...</td>\n",
       "      <td>...</td>\n",
       "    </tr>\n",
       "    <tr>\n",
       "      <th>4260</th>\n",
       "      <td>10161877</td>\n",
       "      <td>26778226</td>\n",
       "      <td>29/10/2202 23:57:00</td>\n",
       "      <td>1/11/2202 15:10:00</td>\n",
       "      <td>OBSERVATION ADMIT</td>\n",
       "      <td>PHYSICIAN REFERRAL</td>\n",
       "      <td>HOME</td>\n",
       "      <td>Other</td>\n",
       "      <td>?</td>\n",
       "      <td>SINGLE</td>\n",
       "      <td>...</td>\n",
       "      <td>0</td>\n",
       "      <td>1</td>\n",
       "      <td>0</td>\n",
       "      <td>0</td>\n",
       "      <td>0</td>\n",
       "      <td>0</td>\n",
       "      <td>1</td>\n",
       "      <td>0</td>\n",
       "      <td>I21A1</td>\n",
       "      <td>Myocardial infarction type 2</td>\n",
       "    </tr>\n",
       "    <tr>\n",
       "      <th>4261</th>\n",
       "      <td>17200311</td>\n",
       "      <td>21779026</td>\n",
       "      <td>20/10/2157 16:38:00</td>\n",
       "      <td>28/10/2157 14:20:00</td>\n",
       "      <td>EW EMER.</td>\n",
       "      <td>TRANSFER FROM HOSPITAL</td>\n",
       "      <td>HOME HEALTH CARE</td>\n",
       "      <td>Medicare</td>\n",
       "      <td>ENGLISH</td>\n",
       "      <td>WIDOWED</td>\n",
       "      <td>...</td>\n",
       "      <td>0</td>\n",
       "      <td>1</td>\n",
       "      <td>0</td>\n",
       "      <td>0</td>\n",
       "      <td>0</td>\n",
       "      <td>0</td>\n",
       "      <td>1</td>\n",
       "      <td>0</td>\n",
       "      <td>I21A1</td>\n",
       "      <td>Myocardial infarction type 2</td>\n",
       "    </tr>\n",
       "    <tr>\n",
       "      <th>4262</th>\n",
       "      <td>12103604</td>\n",
       "      <td>26636647</td>\n",
       "      <td>24/7/2188 17:35:00</td>\n",
       "      <td>27/7/2188 15:05:00</td>\n",
       "      <td>OBSERVATION ADMIT</td>\n",
       "      <td>TRANSFER FROM HOSPITAL</td>\n",
       "      <td>HOME HEALTH CARE</td>\n",
       "      <td>Other</td>\n",
       "      <td>ENGLISH</td>\n",
       "      <td>MARRIED</td>\n",
       "      <td>...</td>\n",
       "      <td>0</td>\n",
       "      <td>1</td>\n",
       "      <td>1</td>\n",
       "      <td>0</td>\n",
       "      <td>0</td>\n",
       "      <td>0</td>\n",
       "      <td>1</td>\n",
       "      <td>0</td>\n",
       "      <td>I213</td>\n",
       "      <td>ST elevation (STEMI) myocardial infarction of ...</td>\n",
       "    </tr>\n",
       "    <tr>\n",
       "      <th>4263</th>\n",
       "      <td>14045171</td>\n",
       "      <td>20671860</td>\n",
       "      <td>24/9/2130 19:49:00</td>\n",
       "      <td>27/9/2130 05:45:00</td>\n",
       "      <td>OBSERVATION ADMIT</td>\n",
       "      <td>TRANSFER FROM HOSPITAL</td>\n",
       "      <td>DIED</td>\n",
       "      <td>Medicare</td>\n",
       "      <td>ENGLISH</td>\n",
       "      <td>SINGLE</td>\n",
       "      <td>...</td>\n",
       "      <td>0</td>\n",
       "      <td>1</td>\n",
       "      <td>0</td>\n",
       "      <td>0</td>\n",
       "      <td>0</td>\n",
       "      <td>0</td>\n",
       "      <td>1</td>\n",
       "      <td>0</td>\n",
       "      <td>I213</td>\n",
       "      <td>ST elevation (STEMI) myocardial infarction of ...</td>\n",
       "    </tr>\n",
       "    <tr>\n",
       "      <th>4264</th>\n",
       "      <td>16393972</td>\n",
       "      <td>23399256</td>\n",
       "      <td>3/10/2162 08:55:00</td>\n",
       "      <td>7/10/2162 17:15:00</td>\n",
       "      <td>OBSERVATION ADMIT</td>\n",
       "      <td>TRANSFER FROM HOSPITAL</td>\n",
       "      <td>HOME HEALTH CARE</td>\n",
       "      <td>Other</td>\n",
       "      <td>ENGLISH</td>\n",
       "      <td>NaN</td>\n",
       "      <td>...</td>\n",
       "      <td>0</td>\n",
       "      <td>1</td>\n",
       "      <td>0</td>\n",
       "      <td>0</td>\n",
       "      <td>0</td>\n",
       "      <td>0</td>\n",
       "      <td>1</td>\n",
       "      <td>0</td>\n",
       "      <td>I213</td>\n",
       "      <td>ST elevation (STEMI) myocardial infarction of ...</td>\n",
       "    </tr>\n",
       "  </tbody>\n",
       "</table>\n",
       "<p>4265 rows × 35 columns</p>\n",
       "</div>"
      ],
      "text/plain": [
       "      subject_id   hadm_id            admittime            dischtime  \\\n",
       "0       19545081  27086801    4/4/2158 18:06:00   25/4/2158 16:52:00   \n",
       "1       18567594  29828717   31/5/2196 03:13:00    7/6/2196 15:00:00   \n",
       "2       17447473  22293942   15/9/2113 19:45:00   27/9/2113 15:00:00   \n",
       "3       17600934  26823201   13/5/2134 12:53:00   20/5/2134 19:30:00   \n",
       "4       14261068  20086032    9/9/2144 13:37:00   13/9/2144 14:00:00   \n",
       "...          ...       ...                  ...                  ...   \n",
       "4260    10161877  26778226  29/10/2202 23:57:00   1/11/2202 15:10:00   \n",
       "4261    17200311  21779026  20/10/2157 16:38:00  28/10/2157 14:20:00   \n",
       "4262    12103604  26636647   24/7/2188 17:35:00   27/7/2188 15:05:00   \n",
       "4263    14045171  20671860   24/9/2130 19:49:00   27/9/2130 05:45:00   \n",
       "4264    16393972  23399256   3/10/2162 08:55:00   7/10/2162 17:15:00   \n",
       "\n",
       "         admission_type      admission_location        discharge_location  \\\n",
       "0              EW EMER.          EMERGENCY ROOM  SKILLED NURSING FACILITY   \n",
       "1              EW EMER.          EMERGENCY ROOM                      HOME   \n",
       "2              EW EMER.          EMERGENCY ROOM  SKILLED NURSING FACILITY   \n",
       "3              EW EMER.          EMERGENCY ROOM                   HOSPICE   \n",
       "4          DIRECT EMER.         CLINIC REFERRAL  SKILLED NURSING FACILITY   \n",
       "...                 ...                     ...                       ...   \n",
       "4260  OBSERVATION ADMIT      PHYSICIAN REFERRAL                      HOME   \n",
       "4261           EW EMER.  TRANSFER FROM HOSPITAL          HOME HEALTH CARE   \n",
       "4262  OBSERVATION ADMIT  TRANSFER FROM HOSPITAL          HOME HEALTH CARE   \n",
       "4263  OBSERVATION ADMIT  TRANSFER FROM HOSPITAL                      DIED   \n",
       "4264  OBSERVATION ADMIT  TRANSFER FROM HOSPITAL          HOME HEALTH CARE   \n",
       "\n",
       "     insurance language marital_status  ... paraplegia  renal_disease  \\\n",
       "0     Medicare  ENGLISH         SINGLE  ...          0              1   \n",
       "1        Other  ENGLISH         SINGLE  ...          0              1   \n",
       "2     Medicare  ENGLISH        MARRIED  ...          0              1   \n",
       "3     Medicare  ENGLISH       DIVORCED  ...          0              1   \n",
       "4        Other  ENGLISH        WIDOWED  ...          0              1   \n",
       "...        ...      ...            ...  ...        ...            ...   \n",
       "4260     Other        ?         SINGLE  ...          0              1   \n",
       "4261  Medicare  ENGLISH        WIDOWED  ...          0              1   \n",
       "4262     Other  ENGLISH        MARRIED  ...          0              1   \n",
       "4263  Medicare  ENGLISH         SINGLE  ...          0              1   \n",
       "4264     Other  ENGLISH            NaN  ...          0              1   \n",
       "\n",
       "     malignant_cancer  severe_liver_disease  metastatic_solid_tumor  aids  \\\n",
       "0                   0                     0                       0     0   \n",
       "1                   0                     0                       0     0   \n",
       "2                   0                     0                       0     0   \n",
       "3                   0                     0                       0     0   \n",
       "4                   0                     0                       0     0   \n",
       "...               ...                   ...                     ...   ...   \n",
       "4260                0                     0                       0     0   \n",
       "4261                0                     0                       0     0   \n",
       "4262                1                     0                       0     0   \n",
       "4263                0                     0                       0     0   \n",
       "4264                0                     0                       0     0   \n",
       "\n",
       "      diag1  diag2  icd_code  \\\n",
       "0         0      1   4280      \n",
       "1         0      1   42833     \n",
       "2         0      1   42833     \n",
       "3         0      1   42833     \n",
       "4         0      1   42833     \n",
       "...     ...    ...       ...   \n",
       "4260      1      0   I21A1     \n",
       "4261      1      0   I21A1     \n",
       "4262      1      0   I213      \n",
       "4263      1      0   I213      \n",
       "4264      1      0   I213      \n",
       "\n",
       "                                             long_title  \n",
       "0                 Congestive heart failure, unspecified  \n",
       "1              Acute on chronic diastolic heart failure  \n",
       "2              Acute on chronic diastolic heart failure  \n",
       "3              Acute on chronic diastolic heart failure  \n",
       "4              Acute on chronic diastolic heart failure  \n",
       "...                                                 ...  \n",
       "4260                       Myocardial infarction type 2  \n",
       "4261                       Myocardial infarction type 2  \n",
       "4262  ST elevation (STEMI) myocardial infarction of ...  \n",
       "4263  ST elevation (STEMI) myocardial infarction of ...  \n",
       "4264  ST elevation (STEMI) myocardial infarction of ...  \n",
       "\n",
       "[4265 rows x 35 columns]"
      ]
     },
     "execution_count": 67,
     "metadata": {},
     "output_type": "execute_result"
    }
   ],
   "source": [
    "# kidney = renal_title[renal_title['long_title'].str.contains(\"kidney\")] #Acute\n",
    "# kidney[kidney['long_title'].str.contains(\"Acute\")] \n",
    "renal_title"
   ]
  },
  {
   "cell_type": "code",
   "execution_count": null,
   "id": "b1ac6818",
   "metadata": {},
   "outputs": [],
   "source": []
  },
  {
   "cell_type": "code",
   "execution_count": null,
   "id": "d2f4d8e7",
   "metadata": {},
   "outputs": [],
   "source": [
    "profile = pdp.ProfileReport(heart_failure) #correlations make the computation workload expensive\n",
    "profile.to_file(output_file=\"heart_failure.html\")"
   ]
  },
  {
   "cell_type": "code",
   "execution_count": 8,
   "id": "84681c7b",
   "metadata": {},
   "outputs": [],
   "source": [
    "### subject - status (for model)\n",
    "subject_status = data_info5[['subject_id', 'status']]\n",
    "subject_status.to_csv('subject_status.csv', index=False, encoding='utf-8')"
   ]
  },
  {
   "cell_type": "code",
   "execution_count": null,
   "id": "dbae9285",
   "metadata": {},
   "outputs": [],
   "source": [
    "## we want to know the relation between the subjects and hearfailure, we only selected the column with 1 \n",
    "sub_diseases = data_info5[['subject_id', 'myocardial_infarct', 'congestive_heart_failure', \n",
    "           'peripheral_vascular_disease', 'cerebrovascular_disease', 'dementia',\n",
    "           'chronic_pulmonary_disease', 'rheumatic_disease', 'peptic_ulcer_disease',\n",
    "           'mild_liver_disease', 'diabetes_without_cc', 'diabetes_with_cc', 'paraplegia',\n",
    "           'renal_disease', 'malignant_cancer', 'severe_liver_disease', 'metastatic_solid_tumor', 'aids']]\n",
    "\n",
    "# intersection two columns"
   ]
  }
 ],
 "metadata": {
  "kernelspec": {
   "display_name": "pytorch",
   "language": "python",
   "name": "pytorch"
  },
  "language_info": {
   "codemirror_mode": {
    "name": "ipython",
    "version": 3
   },
   "file_extension": ".py",
   "mimetype": "text/x-python",
   "name": "python",
   "nbconvert_exporter": "python",
   "pygments_lexer": "ipython3",
   "version": "3.8.6"
  }
 },
 "nbformat": 4,
 "nbformat_minor": 5
}
